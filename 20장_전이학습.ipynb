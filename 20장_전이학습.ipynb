{
  "nbformat": 4,
  "nbformat_minor": 0,
  "metadata": {
    "colab": {
      "name": "20장_전이학습.ipynb",
      "provenance": [],
      "authorship_tag": "ABX9TyM07GOBabj6WbenCxMSinLo",
      "include_colab_link": true
    },
    "kernelspec": {
      "name": "python3",
      "display_name": "Python 3"
    },
    "language_info": {
      "name": "python"
    },
    "accelerator": "GPU"
  },
  "cells": [
    {
      "cell_type": "markdown",
      "metadata": {
        "id": "view-in-github",
        "colab_type": "text"
      },
      "source": [
        "<a href=\"https://colab.research.google.com/github/2021BUSTER/deep-learning_minjeong/blob/main/20%EC%9E%A5_%EC%A0%84%EC%9D%B4%ED%95%99%EC%8A%B5.ipynb\" target=\"_parent\"><img src=\"https://colab.research.google.com/assets/colab-badge.svg\" alt=\"Open In Colab\"/></a>"
      ]
    },
    {
      "cell_type": "code",
      "metadata": {
        "colab": {
          "base_uri": "https://localhost:8080/"
        },
        "id": "NOzLPE9yNrya",
        "outputId": "ac2a5c9f-b525-4bdc-ff64-9380e7ba2b44"
      },
      "source": [
        "from google.colab import drive\n",
        "drive.mount('/content/drive')"
      ],
      "execution_count": 1,
      "outputs": [
        {
          "output_type": "stream",
          "text": [
            "Mounted at /content/drive\n"
          ],
          "name": "stdout"
        }
      ]
    },
    {
      "cell_type": "code",
      "metadata": {
        "id": "BA4cRamEWiyD"
      },
      "source": [
        "# 데이터 준비\n",
        "from google.colab import files\n",
        "uploaded = files.upload()\n",
        "\n",
        "## colab > run_project 폴더에 있는 colab_train_test.zip 파일을 선택합니다.\n",
        "my_data = 'colab_train_test.zip'\n",
        "!unzip colab_train_test.zip"
      ],
      "execution_count": null,
      "outputs": []
    },
    {
      "cell_type": "code",
      "metadata": {
        "colab": {
          "base_uri": "https://localhost:8080/",
          "height": 1000
        },
        "id": "oo1lHqWwJQvZ",
        "outputId": "5fc68812-b082-4278-fd5a-8bde61f52d72"
      },
      "source": [
        "import tensorflow as tf\n",
        "import numpy as np\n",
        "import matplotlib.pyplot as plt\n",
        "\n",
        "from tensorflow.keras.models import Sequential\n",
        "from tensorflow.keras.layers import Dense, Activation, Dropout, Flatten, Dense, Conv2D, MaxPooling2D\n",
        "from tensorflow.keras.preprocessing.image import ImageDataGenerator\n",
        "from tensorflow.keras import optimizers, initializers, regularizers, metrics\n",
        "\n",
        "np.random.seed(3)\n",
        "tf.random.set_seed(3)\n",
        "\n",
        "train_datagen = ImageDataGenerator(rescale=1./255,\n",
        "                                  horizontal_flip=True,     #수평 대칭 이미지를 50% 확률로 만들어 추가합니다.\n",
        "                                  width_shift_range=0.1,  #전체 크기의 10% 범위에서 좌우로 이동합니다.\n",
        "                                  height_shift_range=0.1, #마찬가지로 위, 아래로 이동합니다.\n",
        "                                  #rotation_range=5,\n",
        "                                  #shear_range=0.7,\n",
        "                                  #zoom_range=[0.9, 2.2],\n",
        "                                  #vertical_flip=True,\n",
        "                                  fill_mode='nearest') \n",
        "\n",
        "train_generator = train_datagen.flow_from_directory(\n",
        "       '/content/drive/MyDrive/Colab Notebooks/train',   #학습셋이 있는 폴더의 위치입니다.\n",
        "       target_size=(150, 150),\n",
        "       batch_size=5,\n",
        "       class_mode='binary')\n",
        "\n",
        "#테스트 셋은 이미지 부풀리기 과정을 진행하지 않습니다.\n",
        "test_datagen = ImageDataGenerator(rescale=1./255)  \n",
        "\n",
        "test_generator = test_datagen.flow_from_directory(\n",
        "       '/content/drive/MyDrive/Colab Notebooks/test',   #테스트셋이 있는 폴더의 위치입니다.\n",
        "       target_size=(150, 150),\n",
        "       batch_size=5,\n",
        "       class_mode='binary')\n",
        "\n",
        "\n",
        "# 앞서 배운 CNN 모델을 만들어 적용해 보겠습니다.\n",
        "model = Sequential()\n",
        "model.add(Conv2D(32, (3, 3), input_shape=(150,150,3)))\n",
        "model.add(Activation('relu'))\n",
        "model.add(MaxPooling2D(pool_size=(2, 2)))\n",
        "\n",
        "model.add(Conv2D(32, (3, 3)))\n",
        "model.add(Activation('relu'))\n",
        "model.add(MaxPooling2D(pool_size=(2, 2)))\n",
        "\n",
        "model.add(Conv2D(64, (3, 3)))\n",
        "model.add(Activation('relu'))\n",
        "model.add(MaxPooling2D(pool_size=(2, 2)))\n",
        "\n",
        "model.add(Flatten())\n",
        "model.add(Dense(64))\n",
        "model.add(Activation('relu'))\n",
        "model.add(Dropout(0.5))\n",
        "model.add(Dense(2))\n",
        "model.add(Activation('softmax'))\n",
        "\n",
        "#모델을 컴파일 합니다. \n",
        "model.compile(loss='sparse_categorical_crossentropy', optimizer=optimizers.Adam(learning_rate=0.0002), metrics=['accuracy'])\n",
        "\n",
        "#모델을 실행합니다\n",
        "history = model.fit_generator(\n",
        "       train_generator,\n",
        "       steps_per_epoch=30,  #적절한 값으로 조절합니다.\n",
        "       epochs=20,   #적절한 값으로 조절합니다.\n",
        "       validation_data=test_generator,\n",
        "       validation_steps=10)\n",
        "\n",
        "#결과를 그래프로 표현하는 부분입니다.\n",
        "acc= history.history['accuracy']\n",
        "val_acc= history.history['val_accuracy']\n",
        "y_vloss = history.history['val_loss']\n",
        "y_loss = history.history['loss']\n",
        "\n",
        "x_len = np.arange(len(y_loss))  \n",
        "plt.plot(x_len, acc, marker='.', c=\"red\", label='Trainset_acc')\n",
        "plt.plot(x_len, val_acc, marker='.', c=\"lightcoral\", label='Testset_acc')\n",
        "plt.plot(x_len, y_vloss, marker='.', c=\"cornflowerblue\", label='Testset_loss')\n",
        "plt.plot(x_len, y_loss, marker='.', c=\"blue\", label='Trainset_loss')\n",
        "\n",
        "plt.legend(loc='upper right') \n",
        "plt.grid()\n",
        "plt.xlabel('epoch')\n",
        "plt.ylabel('loss/acc')\n",
        "plt.show()"
      ],
      "execution_count": 11,
      "outputs": [
        {
          "output_type": "stream",
          "text": [
            "Found 160 images belonging to 2 classes.\n",
            "Found 120 images belonging to 2 classes.\n"
          ],
          "name": "stdout"
        },
        {
          "output_type": "stream",
          "text": [
            "/usr/local/lib/python3.7/dist-packages/tensorflow/python/keras/engine/training.py:1844: UserWarning: `Model.fit_generator` is deprecated and will be removed in a future version. Please use `Model.fit`, which supports generators.\n",
            "  warnings.warn('`Model.fit_generator` is deprecated and '\n"
          ],
          "name": "stderr"
        },
        {
          "output_type": "stream",
          "text": [
            "Epoch 1/20\n",
            "30/30 [==============================] - 2s 58ms/step - loss: 0.6861 - accuracy: 0.6253 - val_loss: 0.6854 - val_accuracy: 0.5200\n",
            "Epoch 2/20\n",
            "30/30 [==============================] - 2s 51ms/step - loss: 0.6839 - accuracy: 0.5804 - val_loss: 0.6799 - val_accuracy: 0.6200\n",
            "Epoch 3/20\n",
            "30/30 [==============================] - 2s 53ms/step - loss: 0.7071 - accuracy: 0.4821 - val_loss: 0.6857 - val_accuracy: 0.4600\n",
            "Epoch 4/20\n",
            "30/30 [==============================] - 2s 52ms/step - loss: 0.7021 - accuracy: 0.5327 - val_loss: 0.6649 - val_accuracy: 0.7000\n",
            "Epoch 5/20\n",
            "30/30 [==============================] - 2s 53ms/step - loss: 0.6573 - accuracy: 0.6602 - val_loss: 0.6372 - val_accuracy: 0.6000\n",
            "Epoch 6/20\n",
            "30/30 [==============================] - 2s 51ms/step - loss: 0.6443 - accuracy: 0.6791 - val_loss: 0.5819 - val_accuracy: 0.8200\n",
            "Epoch 7/20\n",
            "30/30 [==============================] - 2s 51ms/step - loss: 0.5849 - accuracy: 0.7264 - val_loss: 0.5318 - val_accuracy: 0.7000\n",
            "Epoch 8/20\n",
            "30/30 [==============================] - 2s 51ms/step - loss: 0.5679 - accuracy: 0.6880 - val_loss: 0.5605 - val_accuracy: 0.7800\n",
            "Epoch 9/20\n",
            "30/30 [==============================] - 2s 53ms/step - loss: 0.6225 - accuracy: 0.6587 - val_loss: 0.5037 - val_accuracy: 0.7800\n",
            "Epoch 10/20\n",
            "30/30 [==============================] - 2s 52ms/step - loss: 0.4732 - accuracy: 0.8061 - val_loss: 0.4201 - val_accuracy: 0.8200\n",
            "Epoch 11/20\n",
            "30/30 [==============================] - 2s 53ms/step - loss: 0.4542 - accuracy: 0.8177 - val_loss: 0.5946 - val_accuracy: 0.6400\n",
            "Epoch 12/20\n",
            "30/30 [==============================] - 2s 53ms/step - loss: 0.3329 - accuracy: 0.8899 - val_loss: 0.3080 - val_accuracy: 0.8600\n",
            "Epoch 13/20\n",
            "30/30 [==============================] - 2s 51ms/step - loss: 0.3116 - accuracy: 0.8954 - val_loss: 0.5638 - val_accuracy: 0.6600\n",
            "Epoch 14/20\n",
            "30/30 [==============================] - 2s 51ms/step - loss: 0.4058 - accuracy: 0.8371 - val_loss: 0.2678 - val_accuracy: 0.8800\n",
            "Epoch 15/20\n",
            "30/30 [==============================] - 2s 52ms/step - loss: 0.2631 - accuracy: 0.9246 - val_loss: 0.5554 - val_accuracy: 0.7000\n",
            "Epoch 16/20\n",
            "30/30 [==============================] - 2s 52ms/step - loss: 0.3233 - accuracy: 0.9042 - val_loss: 0.1985 - val_accuracy: 0.9600\n",
            "Epoch 17/20\n",
            "30/30 [==============================] - 2s 51ms/step - loss: 0.2843 - accuracy: 0.8931 - val_loss: 0.2102 - val_accuracy: 0.9400\n",
            "Epoch 18/20\n",
            "30/30 [==============================] - 2s 52ms/step - loss: 0.2112 - accuracy: 0.9509 - val_loss: 0.1012 - val_accuracy: 0.9600\n",
            "Epoch 19/20\n",
            "30/30 [==============================] - 2s 52ms/step - loss: 0.2434 - accuracy: 0.8862 - val_loss: 0.1484 - val_accuracy: 0.9400\n",
            "Epoch 20/20\n",
            "30/30 [==============================] - 2s 51ms/step - loss: 0.1357 - accuracy: 0.9680 - val_loss: 0.0672 - val_accuracy: 0.9800\n"
          ],
          "name": "stdout"
        },
        {
          "output_type": "display_data",
          "data": {
            "image/png": "[encoded data removed]",
            "text/plain": [
              "<Figure size 432x288 with 1 Axes>"
            ]
          },
          "metadata": {
            "tags": [],
            "needs_background": "light"
          }
        }
      ]
    },
    {
      "cell_type": "markdown",
      "metadata": {
        "id": "bscorzT-Wjtw"
      },
      "source": [
        "## 모델 성능 극대화하기"
      ]
    },
    {
      "cell_type": "code",
      "metadata": {
        "colab": {
          "base_uri": "https://localhost:8080/",
          "height": 1000
        },
        "id": "cugXAg_AXFFq",
        "outputId": "0367b9b2-4a7b-4d48-840a-145154fba547"
      },
      "source": [
        "import tensorflow as tf\n",
        "import numpy as np\n",
        "import matplotlib.pyplot as plt\n",
        "\n",
        "from tensorflow.keras.preprocessing.image import ImageDataGenerator\n",
        "from tensorflow.keras import Input, models, layers, optimizers, metrics\n",
        "from tensorflow.keras.layers import Dense, Flatten\n",
        "from tensorflow.keras.applications import VGG16\n",
        "\n",
        "np.random.seed(3)\n",
        "tf.random.set_seed(3)\n",
        "\n",
        "train_datagen = ImageDataGenerator(rescale=1./255,\n",
        "                                  horizontal_flip=True,\n",
        "                                  width_shift_range=0.1,\n",
        "                                  height_shift_range=0.1,\n",
        "                                  fill_mode='nearest')\n",
        "\n",
        "train_generator = train_datagen.flow_from_directory(\n",
        "       'train',\n",
        "       target_size=(150, 150),\n",
        "       batch_size=5,\n",
        "       class_mode='binary')\n",
        "\n",
        "test_datagen = ImageDataGenerator(rescale=1./255)\n",
        "\n",
        "test_generator = test_datagen.flow_from_directory(\n",
        "       'test',\n",
        "       target_size=(150, 150),\n",
        "       batch_size=5,\n",
        "       class_mode='binary')\n",
        "\n",
        "transfer_model = VGG16(weights='imagenet', include_top=False, input_shape=(150, 150, 3))\n",
        "transfer_model.trainable = False\n",
        "transfer_model.summary()\n",
        "\n",
        "finetune_model = models.Sequential()\n",
        "finetune_model.add(transfer_model)\n",
        "finetune_model.add(Flatten())\n",
        "finetune_model.add(Dense(64, activation='relu'))\n",
        "finetune_model.add(Dense(2, activation='softmax'))\n",
        "finetune_model.summary()\n",
        "\n",
        "finetune_model.compile(loss='sparse_categorical_crossentropy', optimizer=optimizers.Adam(learning_rate=0.0002), metrics=['accuracy'])\n",
        "\n",
        "history = finetune_model.fit_generator(\n",
        "       train_generator,\n",
        "       steps_per_epoch=30,\n",
        "       epochs=20,\n",
        "       validation_data=test_generator,\n",
        "       validation_steps=10)\n",
        "\n",
        "acc= history.history['accuracy']\n",
        "val_acc= history.history['val_accuracy']\n",
        "y_vloss = history.history['val_loss']\n",
        "y_loss = history.history['loss']\n",
        "\n",
        "# 그래프로 표현\n",
        "x_len = np.arange(len(y_loss))\n",
        "plt.plot(x_len, acc, marker='.', c=\"red\", label='Trainset_acc')\n",
        "plt.plot(x_len, val_acc, marker='.', c=\"lightcoral\", label='Testset_acc')\n",
        "plt.plot(x_len, y_vloss, marker='.', c=\"cornflowerblue\", label='Testset_loss')\n",
        "plt.plot(x_len, y_loss, marker='.', c=\"blue\", label='Trainset_loss')\n",
        "\n",
        "# 그래프에 그리드를 주고 레이블을 표시\n",
        "plt.legend(loc='upper right')\n",
        "plt.grid()\n",
        "plt.xlabel('epoch')\n",
        "plt.ylabel('loss/acc')\n",
        "plt.show()"
      ],
      "execution_count": 15,
      "outputs": [
        {
          "output_type": "stream",
          "text": [
            "Found 160 images belonging to 2 classes.\n",
            "Found 120 images belonging to 2 classes.\n",
            "Model: \"vgg16\"\n",
            "_________________________________________________________________\n",
            "Layer (type)                 Output Shape              Param #   \n",
            "=================================================================\n",
            "input_3 (InputLayer)         [(None, 150, 150, 3)]     0         \n",
            "_________________________________________________________________\n",
            "block1_conv1 (Conv2D)        (None, 150, 150, 64)      1792      \n",
            "_________________________________________________________________\n",
            "block1_conv2 (Conv2D)        (None, 150, 150, 64)      36928     \n",
            "_________________________________________________________________\n",
            "block1_pool (MaxPooling2D)   (None, 75, 75, 64)        0         \n",
            "_________________________________________________________________\n",
            "block2_conv1 (Conv2D)        (None, 75, 75, 128)       73856     \n",
            "_________________________________________________________________\n",
            "block2_conv2 (Conv2D)        (None, 75, 75, 128)       147584    \n",
            "_________________________________________________________________\n",
            "block2_pool (MaxPooling2D)   (None, 37, 37, 128)       0         \n",
            "_________________________________________________________________\n",
            "block3_conv1 (Conv2D)        (None, 37, 37, 256)       295168    \n",
            "_________________________________________________________________\n",
            "block3_conv2 (Conv2D)        (None, 37, 37, 256)       590080    \n",
            "_________________________________________________________________\n",
            "block3_conv3 (Conv2D)        (None, 37, 37, 256)       590080    \n",
            "_________________________________________________________________\n",
            "block3_pool (MaxPooling2D)   (None, 18, 18, 256)       0         \n",
            "_________________________________________________________________\n",
            "block4_conv1 (Conv2D)        (None, 18, 18, 512)       1180160   \n",
            "_________________________________________________________________\n",
            "block4_conv2 (Conv2D)        (None, 18, 18, 512)       2359808   \n",
            "_________________________________________________________________\n",
            "block4_conv3 (Conv2D)        (None, 18, 18, 512)       2359808   \n",
            "_________________________________________________________________\n",
            "block4_pool (MaxPooling2D)   (None, 9, 9, 512)         0         \n",
            "_________________________________________________________________\n",
            "block5_conv1 (Conv2D)        (None, 9, 9, 512)         2359808   \n",
            "_________________________________________________________________\n",
            "block5_conv2 (Conv2D)        (None, 9, 9, 512)         2359808   \n",
            "_________________________________________________________________\n",
            "block5_conv3 (Conv2D)        (None, 9, 9, 512)         2359808   \n",
            "_________________________________________________________________\n",
            "block5_pool (MaxPooling2D)   (None, 4, 4, 512)         0         \n",
            "=================================================================\n",
            "Total params: 14,714,688\n",
            "Trainable params: 0\n",
            "Non-trainable params: 14,714,688\n",
            "_________________________________________________________________\n",
            "Model: \"sequential_11\"\n",
            "_________________________________________________________________\n",
            "Layer (type)                 Output Shape              Param #   \n",
            "=================================================================\n",
            "vgg16 (Functional)           (None, 4, 4, 512)         14714688  \n",
            "_________________________________________________________________\n",
            "flatten_11 (Flatten)         (None, 8192)              0         \n",
            "_________________________________________________________________\n",
            "dense_22 (Dense)             (None, 64)                524352    \n",
            "_________________________________________________________________\n",
            "dense_23 (Dense)             (None, 2)                 130       \n",
            "=================================================================\n",
            "Total params: 15,239,170\n",
            "Trainable params: 524,482\n",
            "Non-trainable params: 14,714,688\n",
            "_________________________________________________________________\n"
          ],
          "name": "stdout"
        },
        {
          "output_type": "stream",
          "text": [
            "/usr/local/lib/python3.7/dist-packages/tensorflow/python/keras/engine/training.py:1844: UserWarning: `Model.fit_generator` is deprecated and will be removed in a future version. Please use `Model.fit`, which supports generators.\n",
            "  warnings.warn('`Model.fit_generator` is deprecated and '\n"
          ],
          "name": "stderr"
        },
        {
          "output_type": "stream",
          "text": [
            "Epoch 1/20\n",
            "30/30 [==============================] - 4s 99ms/step - loss: 0.6897 - accuracy: 0.5716 - val_loss: 0.4519 - val_accuracy: 0.8600\n",
            "Epoch 2/20\n",
            "30/30 [==============================] - 3s 88ms/step - loss: 0.3412 - accuracy: 0.9386 - val_loss: 0.3222 - val_accuracy: 0.9000\n",
            "Epoch 3/20\n",
            "30/30 [==============================] - 3s 88ms/step - loss: 0.2850 - accuracy: 0.9238 - val_loss: 0.3005 - val_accuracy: 0.8800\n",
            "Epoch 4/20\n",
            "30/30 [==============================] - 3s 89ms/step - loss: 0.2739 - accuracy: 0.9147 - val_loss: 0.2204 - val_accuracy: 0.9800\n",
            "Epoch 5/20\n",
            "30/30 [==============================] - 3s 89ms/step - loss: 0.1920 - accuracy: 0.9601 - val_loss: 0.2247 - val_accuracy: 0.9000\n",
            "Epoch 6/20\n",
            "30/30 [==============================] - 3s 88ms/step - loss: 0.1981 - accuracy: 0.9489 - val_loss: 0.2139 - val_accuracy: 0.9000\n",
            "Epoch 7/20\n",
            "30/30 [==============================] - 3s 88ms/step - loss: 0.1515 - accuracy: 0.9541 - val_loss: 0.1156 - val_accuracy: 0.9800\n",
            "Epoch 8/20\n",
            "30/30 [==============================] - 3s 88ms/step - loss: 0.1153 - accuracy: 0.9682 - val_loss: 0.1385 - val_accuracy: 0.9600\n",
            "Epoch 9/20\n",
            "30/30 [==============================] - 3s 89ms/step - loss: 0.1909 - accuracy: 0.9090 - val_loss: 0.1162 - val_accuracy: 0.9800\n",
            "Epoch 10/20\n",
            "30/30 [==============================] - 3s 88ms/step - loss: 0.0961 - accuracy: 0.9705 - val_loss: 0.1635 - val_accuracy: 0.9200\n",
            "Epoch 11/20\n",
            "30/30 [==============================] - 3s 88ms/step - loss: 0.1145 - accuracy: 0.9715 - val_loss: 0.0943 - val_accuracy: 0.9800\n",
            "Epoch 12/20\n",
            "30/30 [==============================] - 3s 89ms/step - loss: 0.1005 - accuracy: 0.9823 - val_loss: 0.1581 - val_accuracy: 0.9000\n",
            "Epoch 13/20\n",
            "30/30 [==============================] - 3s 87ms/step - loss: 0.0839 - accuracy: 0.9925 - val_loss: 0.0932 - val_accuracy: 0.9800\n",
            "Epoch 14/20\n",
            "30/30 [==============================] - 3s 88ms/step - loss: 0.1408 - accuracy: 0.9509 - val_loss: 0.1069 - val_accuracy: 0.9800\n",
            "Epoch 15/20\n",
            "30/30 [==============================] - 3s 88ms/step - loss: 0.0952 - accuracy: 0.9734 - val_loss: 0.1703 - val_accuracy: 0.9400\n",
            "Epoch 16/20\n",
            "30/30 [==============================] - 3s 88ms/step - loss: 0.0995 - accuracy: 0.9599 - val_loss: 0.1085 - val_accuracy: 0.9600\n",
            "Epoch 17/20\n",
            "30/30 [==============================] - 3s 88ms/step - loss: 0.0567 - accuracy: 0.9909 - val_loss: 0.0890 - val_accuracy: 0.9800\n",
            "Epoch 18/20\n",
            "30/30 [==============================] - 3s 87ms/step - loss: 0.0620 - accuracy: 0.9790 - val_loss: 0.0533 - val_accuracy: 1.0000\n",
            "Epoch 19/20\n",
            "30/30 [==============================] - 3s 88ms/step - loss: 0.0621 - accuracy: 0.9795 - val_loss: 0.0769 - val_accuracy: 0.9800\n",
            "Epoch 20/20\n",
            "30/30 [==============================] - 3s 88ms/step - loss: 0.0706 - accuracy: 0.9853 - val_loss: 0.1235 - val_accuracy: 0.9400\n"
          ],
          "name": "stdout"
        },
        {
          "output_type": "error",
          "ename": "NameError",
          "evalue": "ignored",
          "traceback": [
            "\u001b[0;31m---------------------------------------------------------------------------\u001b[0m",
            "\u001b[0;31mNameError\u001b[0m                                 Traceback (most recent call last)",
            "\u001b[0;32m<ipython-input-15-3b9cebf65852>\u001b[0m in \u001b[0;36m<module>\u001b[0;34m()\u001b[0m\n\u001b[1;32m     56\u001b[0m \u001b[0my_loss\u001b[0m \u001b[0;34m=\u001b[0m \u001b[0mhistory\u001b[0m\u001b[0;34m.\u001b[0m\u001b[0mhistory\u001b[0m\u001b[0;34m[\u001b[0m\u001b[0;34m'loss'\u001b[0m\u001b[0;34m]\u001b[0m\u001b[0;34m\u001b[0m\u001b[0;34m\u001b[0m\u001b[0m\n\u001b[1;32m     57\u001b[0m \u001b[0;34m\u001b[0m\u001b[0m\n\u001b[0;32m---> 58\u001b[0;31m \u001b[0mprint\u001b[0m\u001b[0;34m(\u001b[0m\u001b[0;34m\"\\n Accuracy: %.4f\"\u001b[0m \u001b[0;34m%\u001b[0m \u001b[0;34m(\u001b[0m\u001b[0mmodel\u001b[0m\u001b[0;34m.\u001b[0m\u001b[0mevaluate\u001b[0m\u001b[0;34m(\u001b[0m\u001b[0mX\u001b[0m\u001b[0;34m,\u001b[0m\u001b[0mY\u001b[0m\u001b[0;34m)\u001b[0m\u001b[0;34m[\u001b[0m\u001b[0;36m1\u001b[0m\u001b[0;34m]\u001b[0m\u001b[0;34m)\u001b[0m\u001b[0;34m)\u001b[0m\u001b[0;34m\u001b[0m\u001b[0;34m\u001b[0m\u001b[0m\n\u001b[0m\u001b[1;32m     59\u001b[0m \u001b[0;34m\u001b[0m\u001b[0m\n\u001b[1;32m     60\u001b[0m \u001b[0;31m# 그래프로 표현\u001b[0m\u001b[0;34m\u001b[0m\u001b[0;34m\u001b[0m\u001b[0;34m\u001b[0m\u001b[0m\n",
            "\u001b[0;31mNameError\u001b[0m: name 'X' is not defined"
          ]
        }
      ]
    }
  ]
}